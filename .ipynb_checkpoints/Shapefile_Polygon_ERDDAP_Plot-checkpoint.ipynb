{
 "cells": [
  {
   "cell_type": "markdown",
   "metadata": {},
   "source": [
    "This example downloads and plots Antarctic satellite data for a given polygon. \n",
    "\n",
    "1. loads a shapefile of multiple polygons and pulls out one polygon\n",
    "2. extracts satellite data from and ERDDAP server for the area\n",
    "3. plots the returned data in polar projection\n",
    "\n",
    "Uses python 3 with helpful geospatial packages:\n",
    "* fiona - opens and writes files\n",
    "* shapely - handles polygons\n",
    "* pyproj - converts between projections\n",
    "* cartopy - map based plotting\n",
    "\n",
    "Other examples in this series build on this one:\n",
    "1. Automating generation of the data request url\n",
    "2. Outputing data as geosjon for leaflet\n"
   ]
  },
  {
   "cell_type": "code",
   "execution_count": 1,
   "metadata": {
    "collapsed": false,
    "scrolled": true
   },
   "outputs": [],
   "source": [
    "# Run in python 3\n",
    "\n",
    "import sys\n",
    "sys.executable\n",
    "\n",
    "# Import modules for importing and working with shape files\n",
    "import fiona\n",
    "from shapely.geometry import shape\n",
    "from shapely.geometry import MultiPolygon\n",
    "from functools import partial\n",
    "import pyproj\n",
    "from shapely.ops import transform\n",
    "\n",
    "# Import modules for fetching and working with the satellite data\n",
    "import urllib3 \n",
    "from netCDF4 import Dataset as netcdf_dataset\n",
    "import numpy as np\n",
    "\n",
    "# Import modules for masking and plotting the data\n",
    "from matplotlib import path\n",
    "import matplotlib.pyplot as plt\n",
    "import cartopy\n",
    "import cartopy.crs as ccrs\n"
   ]
  },
  {
   "cell_type": "markdown",
   "metadata": {},
   "source": [
    "Use fiona to open a Shapefile that contains multipolygons, read the coverage area geometries. "
   ]
  },
  {
   "cell_type": "code",
   "execution_count": 2,
   "metadata": {
    "collapsed": false
   },
   "outputs": [],
   "source": [
    "    \n",
    "#Read in the geometries of each polygon\n",
    "Multi = MultiPolygon([shape(pol['geometry']) for pol in fiona.open('/home/jenn/aerdData/CCAMLR_Statistical_Areas/statistical_areasPolygon.shp')])\n",
    "\n",
    "# Uncomment the following line to see the content of Multi\n",
    "#Multi.wkt\n"
   ]
  },
  {
   "cell_type": "markdown",
   "metadata": {},
   "source": [
    "Using the first polygon as an example. Uses pyproj and shapely to reproject the shapefile polygon into EPSG:4326 and make it a shapely polygon."
   ]
  },
  {
   "cell_type": "code",
   "execution_count": 3,
   "metadata": {
    "collapsed": true
   },
   "outputs": [],
   "source": [
    "# Pull out a polygon in EPSG:4326 projection\n",
    "\n",
    "i = 0\n",
    "\n",
    "for polygon in Multi:\n",
    "   \n",
    "    # work with just the first polygon\n",
    "    if i == 0:\n",
    "    \n",
    "        # The projections of the shapefile data, satellite data and our plot are all different\n",
    "        # this step transforms the shapefile data into the 4326 projection of the satellite data\n",
    "        # Requests to the satellite data server need to be in 4326\n",
    "\n",
    "        project = partial( \n",
    "            pyproj.transform,\n",
    "            pyproj.Proj(init='esri:102020'), # source coordinate system\n",
    "            pyproj.Proj(init='epsg:4326'))   # destination coordinate system\n",
    "        p4326 = transform(project, polygon)  # new shapely polygon in new projection\n",
    "    \n",
    "        i = i + 1"
   ]
  },
  {
   "cell_type": "code",
   "execution_count": 4,
   "metadata": {
    "collapsed": false
   },
   "outputs": [
    {
     "name": "stdout",
     "output_type": "stream",
     "text": [
      "Satellite Data File Retrieved\n",
      "Query was for 3627 data points\n"
     ]
    }
   ],
   "source": [
    "   \n",
    "# Get satellite data from ERDDAP\n",
    "dataRequestUrl = 'http://coastwatch.pfeg.noaa.gov/erddap/griddap/jplMURSST41mday.nc?sst[(2017-05-16T00:00:00Z):40:(2017-05-16T00:00:00Z)][(-75.428900):40:(-60.000000)][(-105.000000):40:(-68.123990)]'\n",
    "\n",
    "# specify filename and local location for the satellite data download\n",
    "file = 'dataset.nc'\n",
    "\n",
    "http = urllib3.PoolManager()\n",
    "r = http.request('GET', dataRequestUrl, preload_content=False)\n",
    "\n",
    "# Opens the file and writes the data to it\n",
    "with open(file, 'wb') as out:\n",
    "    while True:\n",
    "        data = r.read(1024*1024)\n",
    "        if not data:\n",
    "            break\n",
    "        out.write(data)\n",
    "\n",
    "r.release_conn()\n",
    "\n",
    "try:\n",
    "    # load the data into python as a netcdf_dataset\n",
    "    data4326 = netcdf_dataset(file)\n",
    "except:\n",
    "    print('Data not returned. See examples on generating data queries for help.')\n",
    "else:\n",
    "    print ('Satellite Data File Retrieved')\n",
    "    \n",
    "# Pull out temperature data \n",
    "\n",
    "parameter = 'sst'\n",
    "\n",
    "if len(np.shape(data4326.variables[parameter])) == 3:\n",
    "    data = data4326.variables[parameter][0, :, :]\n",
    "elif len(np.shape(data4326.variables[parameter])) == 4:\n",
    "    data = data4326.variables[parameter][0, 0,:, :]   \n",
    "\n",
    "lats = data4326.variables['latitude'][:]\n",
    "lons = data4326.variables['longitude'][:]\n",
    "\n",
    "# How big is this dataset?\n",
    "print('Query was for '+ str(len(lats)*len(lons)) + ' data points')"
   ]
  },
  {
   "cell_type": "code",
   "execution_count": 5,
   "metadata": {
    "collapsed": true
   },
   "outputs": [],
   "source": [
    "# Get the perimiter of the polygon and create a mask\n",
    "\n",
    "polyListx, polyListy = p4326.exterior.xy              # perimeter of polygon\n",
    "polyList = list(zip(list(polyListx),list(polyListy))) # formatted perimeter\n",
    "\n",
    "# Create a mask to hide data outside of the polygon\n",
    "p = path.Path(polyList)                             # path for mask\n",
    "X, Y = np.meshgrid(lons, lats)                      # create the grid\n",
    "points = np.array((X.flatten(), Y.flatten())).T     # break it down\n",
    "mask = p.contains_points(points).reshape(X.shape)   # calc and grid a mask based on polygon\n",
    "datamasked = np.ma.masked_where(mask != True, data) # create masked data array"
   ]
  },
  {
   "cell_type": "code",
   "execution_count": 6,
   "metadata": {
    "collapsed": false
   },
   "outputs": [
    {
     "data": {
      "image/png": "[encoded data removed]",
      "text/plain": [
       "<matplotlib.figure.Figure at 0x7ff31140bba8>"
      ]
     },
     "metadata": {},
     "output_type": "display_data"
    }
   ],
   "source": [
    "# Make a colormesh plot in polar stereographic\n",
    "\n",
    "thisproj = ccrs.SouthPolarStereo() #define projection\n",
    "fig = plt.figure()    \n",
    "ax1 = plt.axes(projection = thisproj, ) # set projection\n",
    "ax1.set_global()\n",
    "\n",
    "# set type of plot (colormesh), set the data to plot and\n",
    "# indicate that it's in 4326 (Plate Carree) and needs to be projected\n",
    "dataplt = ax1.pcolormesh(X,Y,datamasked,transform=ccrs.PlateCarree()) \n",
    "\n",
    "# reduce equatorward extent of plot\n",
    "ax1.set_extent([-5500000, 5500000, -5500000, 5500000], thisproj)\n",
    "# add Land\n",
    "ax1.add_feature( cartopy.feature.LAND, zorder=1, edgecolor='none', facecolor='#fae5c9')\n",
    "# add coastline\n",
    "ax1.coastlines(color='#f0c7ab')\n",
    "# add lat lon rings\n",
    "ax1.gridlines(alpha='0.3')\n",
    "\n",
    "plt.show()\n",
    "plt.clf()\n",
    "        "
   ]
  },
  {
   "cell_type": "code",
   "execution_count": 7,
   "metadata": {
    "collapsed": false
   },
   "outputs": [
    {
     "name": "stdout",
     "output_type": "stream",
     "text": [
      "done\n"
     ]
    }
   ],
   "source": [
    "print('done')"
   ]
  }
 ],
 "metadata": {
  "kernelspec": {
   "display_name": "geo3jupyter",
   "language": "python",
   "name": "geo3"
  },
  "language_info": {
   "codemirror_mode": {
    "name": "ipython",
    "version": 3
   },
   "file_extension": ".py",
   "mimetype": "text/x-python",
   "name": "python",
   "nbconvert_exporter": "python",
   "pygments_lexer": "ipython3",
   "version": "3.6.1"
  }
 },
 "nbformat": 4,
 "nbformat_minor": 2
}
